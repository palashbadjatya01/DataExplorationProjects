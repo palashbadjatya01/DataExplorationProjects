{
 "cells": [
  {
   "cell_type": "markdown",
   "metadata": {},
   "source": [
    "## Data Exploration - Crime Data Analysis\n",
    "\n",
    "#### Objective: Analyze the data and draw conclusions on the distribution and nature of crime in Montreal City. In your analysis, include maps that visualize the location of different incidents globally and in relation to police districts.\n",
    "\n",
    "Read: problemStatement.txt for more info"
   ]
  },
  {
   "cell_type": "code",
   "execution_count": null,
   "metadata": {},
   "outputs": [],
   "source": [
    "%pip install requests"
   ]
  },
  {
   "cell_type": "code",
   "execution_count": 19,
   "metadata": {},
   "outputs": [],
   "source": [
    "import json\n",
    "import pandas as pd\n",
    "import geopandas as gpd\n",
    "import requests \n",
    "import time\n"
   ]
  },
  {
   "cell_type": "code",
   "execution_count": 20,
   "metadata": {},
   "outputs": [],
   "source": [
    "# Defiend root directory\n",
    "base_url = '/Users/admin/Documents/VS Code Learning/DataExplorationProjects/'\n",
    "nominatim_reverse_api = 'https://nominatim.openstreetmap.org/reverse?'"
   ]
  },
  {
   "cell_type": "code",
   "execution_count": 21,
   "metadata": {},
   "outputs": [],
   "source": [
    "# Reading CSV followed by csv data analysis\n",
    "criminal_data = pd.read_csv(f'{base_url}CrimeDataExploration/raw_data/actes-criminels.csv')"
   ]
  },
  {
   "cell_type": "code",
   "execution_count": 22,
   "metadata": {},
   "outputs": [
    {
     "data": {
      "text/html": [
       "<div>\n",
       "<style scoped>\n",
       "    .dataframe tbody tr th:only-of-type {\n",
       "        vertical-align: middle;\n",
       "    }\n",
       "\n",
       "    .dataframe tbody tr th {\n",
       "        vertical-align: top;\n",
       "    }\n",
       "\n",
       "    .dataframe thead th {\n",
       "        text-align: right;\n",
       "    }\n",
       "</style>\n",
       "<table border=\"1\" class=\"dataframe\">\n",
       "  <thead>\n",
       "    <tr style=\"text-align: right;\">\n",
       "      <th></th>\n",
       "      <th>CATEGORIE</th>\n",
       "      <th>DATE</th>\n",
       "      <th>QUART</th>\n",
       "      <th>PDQ</th>\n",
       "      <th>X</th>\n",
       "      <th>Y</th>\n",
       "      <th>LONGITUDE</th>\n",
       "      <th>LATITUDE</th>\n",
       "    </tr>\n",
       "  </thead>\n",
       "  <tbody>\n",
       "    <tr>\n",
       "      <th>133213</th>\n",
       "      <td>Vol dans / sur véhicule à moteur</td>\n",
       "      <td>2018-11-06</td>\n",
       "      <td>jour</td>\n",
       "      <td>24.0</td>\n",
       "      <td>294538.639004</td>\n",
       "      <td>5.042091e+06</td>\n",
       "      <td>-73.631346</td>\n",
       "      <td>45.518660</td>\n",
       "    </tr>\n",
       "    <tr>\n",
       "      <th>91976</th>\n",
       "      <td>Vol de véhicule à moteur</td>\n",
       "      <td>2015-05-30</td>\n",
       "      <td>jour</td>\n",
       "      <td>35.0</td>\n",
       "      <td>296520.577991</td>\n",
       "      <td>5.043591e+06</td>\n",
       "      <td>-73.606003</td>\n",
       "      <td>45.532186</td>\n",
       "    </tr>\n",
       "    <tr>\n",
       "      <th>229256</th>\n",
       "      <td>Vol dans / sur véhicule à moteur</td>\n",
       "      <td>2022-06-03</td>\n",
       "      <td>jour</td>\n",
       "      <td>3.0</td>\n",
       "      <td>284136.072606</td>\n",
       "      <td>5.040642e+06</td>\n",
       "      <td>-73.764438</td>\n",
       "      <td>45.505396</td>\n",
       "    </tr>\n",
       "    <tr>\n",
       "      <th>201311</th>\n",
       "      <td>Méfait</td>\n",
       "      <td>2022-01-07</td>\n",
       "      <td>soir</td>\n",
       "      <td>50.0</td>\n",
       "      <td>300138.013991</td>\n",
       "      <td>5.041638e+06</td>\n",
       "      <td>-73.559670</td>\n",
       "      <td>45.514642</td>\n",
       "    </tr>\n",
       "    <tr>\n",
       "      <th>13040</th>\n",
       "      <td>Vol dans / sur véhicule à moteur</td>\n",
       "      <td>2015-03-13</td>\n",
       "      <td>soir</td>\n",
       "      <td>38.0</td>\n",
       "      <td>298289.612008</td>\n",
       "      <td>5.041820e+06</td>\n",
       "      <td>-73.583330</td>\n",
       "      <td>45.516265</td>\n",
       "    </tr>\n",
       "    <tr>\n",
       "      <th>235240</th>\n",
       "      <td>Introduction</td>\n",
       "      <td>2022-10-09</td>\n",
       "      <td>jour</td>\n",
       "      <td>31.0</td>\n",
       "      <td>295079.426990</td>\n",
       "      <td>5.044271e+06</td>\n",
       "      <td>-73.624468</td>\n",
       "      <td>45.538284</td>\n",
       "    </tr>\n",
       "    <tr>\n",
       "      <th>51273</th>\n",
       "      <td>Méfait</td>\n",
       "      <td>2017-03-31</td>\n",
       "      <td>jour</td>\n",
       "      <td>22.0</td>\n",
       "      <td>NaN</td>\n",
       "      <td>NaN</td>\n",
       "      <td>NaN</td>\n",
       "      <td>NaN</td>\n",
       "    </tr>\n",
       "    <tr>\n",
       "      <th>83268</th>\n",
       "      <td>Vol dans / sur véhicule à moteur</td>\n",
       "      <td>2015-11-28</td>\n",
       "      <td>jour</td>\n",
       "      <td>23.0</td>\n",
       "      <td>301734.584996</td>\n",
       "      <td>5.045536e+06</td>\n",
       "      <td>-73.539259</td>\n",
       "      <td>45.549726</td>\n",
       "    </tr>\n",
       "    <tr>\n",
       "      <th>185794</th>\n",
       "      <td>Vols qualifiés</td>\n",
       "      <td>2021-06-13</td>\n",
       "      <td>soir</td>\n",
       "      <td>33.0</td>\n",
       "      <td>295284.474000</td>\n",
       "      <td>5.043436e+06</td>\n",
       "      <td>-73.621826</td>\n",
       "      <td>45.530780</td>\n",
       "    </tr>\n",
       "    <tr>\n",
       "      <th>147743</th>\n",
       "      <td>Vol de véhicule à moteur</td>\n",
       "      <td>2020-03-07</td>\n",
       "      <td>soir</td>\n",
       "      <td>5.0</td>\n",
       "      <td>NaN</td>\n",
       "      <td>NaN</td>\n",
       "      <td>NaN</td>\n",
       "      <td>NaN</td>\n",
       "    </tr>\n",
       "  </tbody>\n",
       "</table>\n",
       "</div>"
      ],
      "text/plain": [
       "                               CATEGORIE        DATE QUART   PDQ  \\\n",
       "133213  Vol dans / sur véhicule à moteur  2018-11-06  jour  24.0   \n",
       "91976           Vol de véhicule à moteur  2015-05-30  jour  35.0   \n",
       "229256  Vol dans / sur véhicule à moteur  2022-06-03  jour   3.0   \n",
       "201311                            Méfait  2022-01-07  soir  50.0   \n",
       "13040   Vol dans / sur véhicule à moteur  2015-03-13  soir  38.0   \n",
       "235240                      Introduction  2022-10-09  jour  31.0   \n",
       "51273                             Méfait  2017-03-31  jour  22.0   \n",
       "83268   Vol dans / sur véhicule à moteur  2015-11-28  jour  23.0   \n",
       "185794                    Vols qualifiés  2021-06-13  soir  33.0   \n",
       "147743          Vol de véhicule à moteur  2020-03-07  soir   5.0   \n",
       "\n",
       "                    X             Y  LONGITUDE   LATITUDE  \n",
       "133213  294538.639004  5.042091e+06 -73.631346  45.518660  \n",
       "91976   296520.577991  5.043591e+06 -73.606003  45.532186  \n",
       "229256  284136.072606  5.040642e+06 -73.764438  45.505396  \n",
       "201311  300138.013991  5.041638e+06 -73.559670  45.514642  \n",
       "13040   298289.612008  5.041820e+06 -73.583330  45.516265  \n",
       "235240  295079.426990  5.044271e+06 -73.624468  45.538284  \n",
       "51273             NaN           NaN        NaN        NaN  \n",
       "83268   301734.584996  5.045536e+06 -73.539259  45.549726  \n",
       "185794  295284.474000  5.043436e+06 -73.621826  45.530780  \n",
       "147743            NaN           NaN        NaN        NaN  "
      ]
     },
     "execution_count": 22,
     "metadata": {},
     "output_type": "execute_result"
    }
   ],
   "source": [
    "criminal_data.sample(n=10, random_state=20)"
   ]
  },
  {
   "cell_type": "code",
   "execution_count": 23,
   "metadata": {},
   "outputs": [],
   "source": [
    "# header update in readable format\n",
    "header_rename_dict = {\n",
    "                        'CATEGORIE': 'category'\n",
    "                        , 'DATE': 'event_date'\n",
    "                        , 'QUART': 'event_time'\n",
    "                        , 'PDQ': 'precinct_number'\n",
    "                        , 'X':'spatial_x_coordinate'\n",
    "                        , 'Y': 'spatial_y_coordinate'\n",
    "                        }\n",
    "criminal_data = criminal_data.rename(columns=header_rename_dict)"
   ]
  },
  {
   "cell_type": "code",
   "execution_count": 24,
   "metadata": {},
   "outputs": [
    {
     "data": {
      "text/plain": [
       "array(['Vol de véhicule à moteur', 'Méfait', 'Vols qualifiés',\n",
       "       'Vol dans / sur véhicule à moteur', 'Introduction',\n",
       "       'Infractions entrainant la mort'], dtype=object)"
      ]
     },
     "execution_count": 24,
     "metadata": {},
     "output_type": "execute_result"
    }
   ],
   "source": [
    "criminal_data['category'].unique()"
   ]
  },
  {
   "cell_type": "code",
   "execution_count": 25,
   "metadata": {},
   "outputs": [],
   "source": [
    "# data cleaning category and converting in english understandable\n",
    "\n",
    "replacement_dict = {'Introduction': 'Breaking In'\n",
    "                    , 'Vol dans / sur véhicule à moteur': 'Theft From Motor Vehicle'\n",
    "                    , 'Vol de véhicule à moteur': 'Theft Of A Motor Vehicle'\n",
    "                    , 'Méfait': 'Mischief'\n",
    "                    , 'Vol qualifié': 'Robbery'\n",
    "                    , 'Infraction entraînant la mort': 'Murder Resulting In Death'\n",
    "                    }\n",
    "\n",
    "# Replace values in the 'category' column\n",
    "criminal_data['category'] = criminal_data['category'].replace(replacement_dict)"
   ]
  },
  {
   "cell_type": "code",
   "execution_count": 26,
   "metadata": {},
   "outputs": [
    {
     "data": {
      "text/plain": [
       "array(['jour', 'nuit', 'soir'], dtype=object)"
      ]
     },
     "execution_count": 26,
     "metadata": {},
     "output_type": "execute_result"
    }
   ],
   "source": [
    "criminal_data['event_time'].unique()"
   ]
  },
  {
   "cell_type": "code",
   "execution_count": 27,
   "metadata": {},
   "outputs": [],
   "source": [
    "# cleaning event_type column values\n",
    "event_type_replacement_dictionary = { 'jour': 'day'\n",
    "                                     , 'nuit': 'evening'\n",
    "                                     , 'soir': 'night'\n",
    "                                     }\n",
    "                                     \n",
    "criminal_data['event_time'] = criminal_data['event_time'].replace(event_type_replacement_dictionary)"
   ]
  },
  {
   "cell_type": "code",
   "execution_count": 28,
   "metadata": {},
   "outputs": [
    {
     "name": "stdout",
     "output_type": "stream",
     "text": [
      "                        category  event_date event_time  precinct_number  \\\n",
      "0       Theft Of A Motor Vehicle  2018-09-13        day             30.0   \n",
      "1       Theft Of A Motor Vehicle  2018-04-30        day             30.0   \n",
      "2       Theft Of A Motor Vehicle  2018-09-01    evening              7.0   \n",
      "3                       Mischief  2017-07-21        day             21.0   \n",
      "4                       Mischief  2017-07-29        day             12.0   \n",
      "...                          ...         ...        ...              ...   \n",
      "244112               Breaking In  2022-09-30        day             20.0   \n",
      "244113  Theft Of A Motor Vehicle  2022-09-30        day              9.0   \n",
      "244114                  Mischief  2022-09-30      night             20.0   \n",
      "244115  Theft From Motor Vehicle  2022-10-01      night             26.0   \n",
      "244116  Theft From Motor Vehicle  2022-10-01      night             15.0   \n",
      "\n",
      "        spatial_x_coordinate  spatial_y_coordinate  LONGITUDE   LATITUDE  \n",
      "0              294904.159001          5.047549e+06 -73.626778  45.567780  \n",
      "1              294904.159001          5.047549e+06 -73.626778  45.567780  \n",
      "2              290274.565000          5.042150e+06 -73.685928  45.519122  \n",
      "3                        NaN                   NaN        NaN        NaN  \n",
      "4                        NaN                   NaN        NaN        NaN  \n",
      "...                      ...                   ...        ...        ...  \n",
      "244112                   NaN                   NaN        NaN        NaN  \n",
      "244113         292261.027997          5.035706e+06 -73.660337  45.461170  \n",
      "244114                   NaN                   NaN        NaN        NaN  \n",
      "244115         295209.489996          5.041044e+06 -73.622739  45.509253  \n",
      "244116         297810.068000          5.034847e+06 -73.589369  45.453516  \n",
      "\n",
      "[244117 rows x 8 columns]\n"
     ]
    }
   ],
   "source": [
    "print(criminal_data)"
   ]
  },
  {
   "cell_type": "code",
   "execution_count": 29,
   "metadata": {},
   "outputs": [
    {
     "data": {
      "text/plain": [
       "(244117, 8)"
      ]
     },
     "execution_count": 29,
     "metadata": {},
     "output_type": "execute_result"
    }
   ],
   "source": [
    "criminal_data.shape"
   ]
  },
  {
   "cell_type": "code",
   "execution_count": 30,
   "metadata": {},
   "outputs": [
    {
     "data": {
      "text/html": [
       "<div>\n",
       "<style scoped>\n",
       "    .dataframe tbody tr th:only-of-type {\n",
       "        vertical-align: middle;\n",
       "    }\n",
       "\n",
       "    .dataframe tbody tr th {\n",
       "        vertical-align: top;\n",
       "    }\n",
       "\n",
       "    .dataframe thead th {\n",
       "        text-align: right;\n",
       "    }\n",
       "</style>\n",
       "<table border=\"1\" class=\"dataframe\">\n",
       "  <thead>\n",
       "    <tr style=\"text-align: right;\">\n",
       "      <th></th>\n",
       "      <th>precinct_number</th>\n",
       "      <th>spatial_x_coordinate</th>\n",
       "      <th>spatial_y_coordinate</th>\n",
       "      <th>LONGITUDE</th>\n",
       "      <th>LATITUDE</th>\n",
       "    </tr>\n",
       "  </thead>\n",
       "  <tbody>\n",
       "    <tr>\n",
       "      <th>count</th>\n",
       "      <td>244112.000000</td>\n",
       "      <td>202724.000000</td>\n",
       "      <td>2.027240e+05</td>\n",
       "      <td>202724.000000</td>\n",
       "      <td>202724.000000</td>\n",
       "    </tr>\n",
       "    <tr>\n",
       "      <th>mean</th>\n",
       "      <td>26.316326</td>\n",
       "      <td>295794.169512</td>\n",
       "      <td>5.043228e+06</td>\n",
       "      <td>-73.615261</td>\n",
       "      <td>45.528880</td>\n",
       "    </tr>\n",
       "    <tr>\n",
       "      <th>std</th>\n",
       "      <td>14.029086</td>\n",
       "      <td>6085.984796</td>\n",
       "      <td>6.070386e+03</td>\n",
       "      <td>0.077824</td>\n",
       "      <td>0.054674</td>\n",
       "    </tr>\n",
       "    <tr>\n",
       "      <th>min</th>\n",
       "      <td>1.000000</td>\n",
       "      <td>268109.610010</td>\n",
       "      <td>5.029291e+06</td>\n",
       "      <td>-73.968954</td>\n",
       "      <td>45.402691</td>\n",
       "    </tr>\n",
       "    <tr>\n",
       "      <th>25%</th>\n",
       "      <td>15.000000</td>\n",
       "      <td>293900.976994</td>\n",
       "      <td>5.039088e+06</td>\n",
       "      <td>-73.639550</td>\n",
       "      <td>45.491676</td>\n",
       "    </tr>\n",
       "    <tr>\n",
       "      <th>50%</th>\n",
       "      <td>26.000000</td>\n",
       "      <td>297338.250001</td>\n",
       "      <td>5.042878e+06</td>\n",
       "      <td>-73.595557</td>\n",
       "      <td>45.525735</td>\n",
       "    </tr>\n",
       "    <tr>\n",
       "      <th>75%</th>\n",
       "      <td>39.000000</td>\n",
       "      <td>299665.903993</td>\n",
       "      <td>5.047188e+06</td>\n",
       "      <td>-73.565752</td>\n",
       "      <td>45.564528</td>\n",
       "    </tr>\n",
       "    <tr>\n",
       "      <th>max</th>\n",
       "      <td>55.000000</td>\n",
       "      <td>306389.863000</td>\n",
       "      <td>5.062496e+06</td>\n",
       "      <td>-73.479583</td>\n",
       "      <td>45.702351</td>\n",
       "    </tr>\n",
       "  </tbody>\n",
       "</table>\n",
       "</div>"
      ],
      "text/plain": [
       "       precinct_number  spatial_x_coordinate  spatial_y_coordinate  \\\n",
       "count    244112.000000         202724.000000          2.027240e+05   \n",
       "mean         26.316326         295794.169512          5.043228e+06   \n",
       "std          14.029086           6085.984796          6.070386e+03   \n",
       "min           1.000000         268109.610010          5.029291e+06   \n",
       "25%          15.000000         293900.976994          5.039088e+06   \n",
       "50%          26.000000         297338.250001          5.042878e+06   \n",
       "75%          39.000000         299665.903993          5.047188e+06   \n",
       "max          55.000000         306389.863000          5.062496e+06   \n",
       "\n",
       "           LONGITUDE       LATITUDE  \n",
       "count  202724.000000  202724.000000  \n",
       "mean      -73.615261      45.528880  \n",
       "std         0.077824       0.054674  \n",
       "min       -73.968954      45.402691  \n",
       "25%       -73.639550      45.491676  \n",
       "50%       -73.595557      45.525735  \n",
       "75%       -73.565752      45.564528  \n",
       "max       -73.479583      45.702351  "
      ]
     },
     "execution_count": 30,
     "metadata": {},
     "output_type": "execute_result"
    }
   ],
   "source": [
    "criminal_data.describe()"
   ]
  },
  {
   "cell_type": "code",
   "execution_count": 31,
   "metadata": {},
   "outputs": [
    {
     "data": {
      "text/html": [
       "<div>\n",
       "<style scoped>\n",
       "    .dataframe tbody tr th:only-of-type {\n",
       "        vertical-align: middle;\n",
       "    }\n",
       "\n",
       "    .dataframe tbody tr th {\n",
       "        vertical-align: top;\n",
       "    }\n",
       "\n",
       "    .dataframe thead th {\n",
       "        text-align: right;\n",
       "    }\n",
       "</style>\n",
       "<table border=\"1\" class=\"dataframe\">\n",
       "  <thead>\n",
       "    <tr style=\"text-align: right;\">\n",
       "      <th></th>\n",
       "      <th>category</th>\n",
       "      <th>event_date</th>\n",
       "      <th>event_time</th>\n",
       "      <th>precinct_number</th>\n",
       "      <th>spatial_x_coordinate</th>\n",
       "      <th>spatial_y_coordinate</th>\n",
       "      <th>LONGITUDE</th>\n",
       "      <th>LATITUDE</th>\n",
       "    </tr>\n",
       "  </thead>\n",
       "  <tbody>\n",
       "    <tr>\n",
       "      <th>0</th>\n",
       "      <td>Theft Of A Motor Vehicle</td>\n",
       "      <td>2018-09-13</td>\n",
       "      <td>day</td>\n",
       "      <td>30.0</td>\n",
       "      <td>294904.159001</td>\n",
       "      <td>5.047549e+06</td>\n",
       "      <td>-73.626778</td>\n",
       "      <td>45.567780</td>\n",
       "    </tr>\n",
       "    <tr>\n",
       "      <th>1</th>\n",
       "      <td>Theft Of A Motor Vehicle</td>\n",
       "      <td>2018-04-30</td>\n",
       "      <td>day</td>\n",
       "      <td>30.0</td>\n",
       "      <td>294904.159001</td>\n",
       "      <td>5.047549e+06</td>\n",
       "      <td>-73.626778</td>\n",
       "      <td>45.567780</td>\n",
       "    </tr>\n",
       "    <tr>\n",
       "      <th>2</th>\n",
       "      <td>Theft Of A Motor Vehicle</td>\n",
       "      <td>2018-09-01</td>\n",
       "      <td>evening</td>\n",
       "      <td>7.0</td>\n",
       "      <td>290274.565000</td>\n",
       "      <td>5.042150e+06</td>\n",
       "      <td>-73.685928</td>\n",
       "      <td>45.519122</td>\n",
       "    </tr>\n",
       "    <tr>\n",
       "      <th>3</th>\n",
       "      <td>Mischief</td>\n",
       "      <td>2017-07-21</td>\n",
       "      <td>day</td>\n",
       "      <td>21.0</td>\n",
       "      <td>NaN</td>\n",
       "      <td>NaN</td>\n",
       "      <td>NaN</td>\n",
       "      <td>NaN</td>\n",
       "    </tr>\n",
       "    <tr>\n",
       "      <th>4</th>\n",
       "      <td>Mischief</td>\n",
       "      <td>2017-07-29</td>\n",
       "      <td>day</td>\n",
       "      <td>12.0</td>\n",
       "      <td>NaN</td>\n",
       "      <td>NaN</td>\n",
       "      <td>NaN</td>\n",
       "      <td>NaN</td>\n",
       "    </tr>\n",
       "  </tbody>\n",
       "</table>\n",
       "</div>"
      ],
      "text/plain": [
       "                   category  event_date event_time  precinct_number  \\\n",
       "0  Theft Of A Motor Vehicle  2018-09-13        day             30.0   \n",
       "1  Theft Of A Motor Vehicle  2018-04-30        day             30.0   \n",
       "2  Theft Of A Motor Vehicle  2018-09-01    evening              7.0   \n",
       "3                  Mischief  2017-07-21        day             21.0   \n",
       "4                  Mischief  2017-07-29        day             12.0   \n",
       "\n",
       "   spatial_x_coordinate  spatial_y_coordinate  LONGITUDE   LATITUDE  \n",
       "0         294904.159001          5.047549e+06 -73.626778  45.567780  \n",
       "1         294904.159001          5.047549e+06 -73.626778  45.567780  \n",
       "2         290274.565000          5.042150e+06 -73.685928  45.519122  \n",
       "3                   NaN                   NaN        NaN        NaN  \n",
       "4                   NaN                   NaN        NaN        NaN  "
      ]
     },
     "execution_count": 31,
     "metadata": {},
     "output_type": "execute_result"
    }
   ],
   "source": [
    "criminal_data.head()"
   ]
  },
  {
   "cell_type": "code",
   "execution_count": 32,
   "metadata": {},
   "outputs": [
    {
     "data": {
      "text/plain": [
       "Index(['category', 'event_date', 'event_time', 'precinct_number',\n",
       "       'spatial_x_coordinate', 'spatial_y_coordinate', 'LONGITUDE',\n",
       "       'LATITUDE'],\n",
       "      dtype='object')"
      ]
     },
     "execution_count": 32,
     "metadata": {},
     "output_type": "execute_result"
    }
   ],
   "source": [
    "criminal_data.columns"
   ]
  },
  {
   "cell_type": "code",
   "execution_count": 33,
   "metadata": {},
   "outputs": [
    {
     "data": {
      "text/plain": [
       "category                 object\n",
       "event_date               object\n",
       "event_time               object\n",
       "precinct_number         float64\n",
       "spatial_x_coordinate    float64\n",
       "spatial_y_coordinate    float64\n",
       "LONGITUDE               float64\n",
       "LATITUDE                float64\n",
       "dtype: object"
      ]
     },
     "execution_count": 33,
     "metadata": {},
     "output_type": "execute_result"
    }
   ],
   "source": [
    "criminal_data.dtypes"
   ]
  },
  {
   "cell_type": "code",
   "execution_count": 34,
   "metadata": {},
   "outputs": [],
   "source": [
    "# criminal_data.describe().T"
   ]
  },
  {
   "cell_type": "code",
   "execution_count": 35,
   "metadata": {},
   "outputs": [],
   "source": [
    "\n",
    "# Example Nominatim reverse geocoding API\n",
    "nominatim_reverse_api = \"https://nominatim.openstreetmap.org/reverse\"\n",
    "\n",
    "# Headers with a user-agent to avoid being blocked\n",
    "\n",
    "def get_location_info(lat, lon):\n",
    "    params = {\n",
    "        'lat': lat,\n",
    "        'lon': lon,\n",
    "        'format': 'json'\n",
    "    }\n",
    "    \n",
    "    headers = {\n",
    "    'User-Agent': 'Mozilla/5.0 (compatible; YourApp/1.0; +http://google.com)'\n",
    "    }\n",
    "    response = requests.get(nominatim_reverse_api, params=params, headers=headers)\n",
    "    \n",
    "    if response.status_code == 200:\n",
    "        result = response.json()\n",
    "        # Extract the required fields if available, otherwise return None\n",
    "        return {\n",
    "            'place_id': result.get('place_id'),\n",
    "            'class': result.get('class'),\n",
    "            'type': result.get('type'),\n",
    "            'place_rank': result.get('place_rank'),\n",
    "            'addresstype': result.get('addresstype'),\n",
    "            'name': result.get('name'),\n",
    "            'display_name': result.get('display_name')\n",
    "        }\n",
    "    else:\n",
    "        print(f\"Error: {response.status_code} for lat: {lat}, lon: {lon}\")\n",
    "        return None\n",
    "\n",
    "# Apply the function to each row in the DataFrame and create new columns\n",
    "for index, row in criminal_data.iterrows():\n",
    "    lat, lon = row['LATITUDE'], row['LONGITUDE']\n",
    "    \n",
    "    # Get location info from API\n",
    "    location_info = get_location_info(lat, lon)\n",
    "    \n",
    "    # If location info was successfully retrieved, add it to the DataFrame\n",
    "    if location_info:\n",
    "        for key, value in location_info.items():\n",
    "            criminal_data.loc[index, key] = value\n",
    "\n",
    "    # To avoid overwhelming the API, it's good practice to pause briefly between requests\n",
    "    time.sleep(1)  # Add a delay of 1 second between API calls\n",
    "\n",
    "# Display updated DataFrame with new columns\n",
    "print(criminal_data)"
   ]
  },
  {
   "cell_type": "code",
   "execution_count": 30,
   "metadata": {},
   "outputs": [],
   "source": [
    "# Reading geojson data followed by its analysis\n",
    "gdf = gpd.read_file(f'{base_url}CrimeDataExploration/raw_data/limitespdq.geojson')"
   ]
  },
  {
   "cell_type": "code",
   "execution_count": 84,
   "metadata": {},
   "outputs": [],
   "source": [
    "# header update in readable format\n",
    "header_rename_dict = {\n",
    "                        'PDQ': 'precinct_number'\n",
    "                        , 'NOM_PDQ':'precinct_name'\n",
    "                        , 'geometry': 'precinct_location'\n",
    "                        }\n",
    "gdf = gdf.rename(columns=header_rename_dict)"
   ]
  },
  {
   "cell_type": "code",
   "execution_count": 85,
   "metadata": {},
   "outputs": [
    {
     "data": {
      "text/html": [
       "<div>\n",
       "<style scoped>\n",
       "    .dataframe tbody tr th:only-of-type {\n",
       "        vertical-align: middle;\n",
       "    }\n",
       "\n",
       "    .dataframe tbody tr th {\n",
       "        vertical-align: top;\n",
       "    }\n",
       "\n",
       "    .dataframe thead th {\n",
       "        text-align: right;\n",
       "    }\n",
       "</style>\n",
       "<table border=\"1\" class=\"dataframe\">\n",
       "  <thead>\n",
       "    <tr style=\"text-align: right;\">\n",
       "      <th></th>\n",
       "      <th>precinct_number</th>\n",
       "      <th>precinct_name</th>\n",
       "      <th>precinct_location</th>\n",
       "    </tr>\n",
       "  </thead>\n",
       "  <tbody>\n",
       "    <tr>\n",
       "      <th>0</th>\n",
       "      <td>1</td>\n",
       "      <td>PDQ-1</td>\n",
       "      <td>MULTIPOLYGON (((-73.8405 45.4569, -73.8422 45....</td>\n",
       "    </tr>\n",
       "    <tr>\n",
       "      <th>1</th>\n",
       "      <td>3</td>\n",
       "      <td>PDQ-3</td>\n",
       "      <td>MULTIPOLYGON (((-73.9397 45.4701, -73.9398 45....</td>\n",
       "    </tr>\n",
       "    <tr>\n",
       "      <th>2</th>\n",
       "      <td>4</td>\n",
       "      <td>PDQ-4</td>\n",
       "      <td>MULTIPOLYGON (((-73.8159 45.5026, -73.8158 45....</td>\n",
       "    </tr>\n",
       "    <tr>\n",
       "      <th>3</th>\n",
       "      <td>5</td>\n",
       "      <td>PDQ-5</td>\n",
       "      <td>MULTIPOLYGON (((-73.7228 45.432, -73.7227 45.4...</td>\n",
       "    </tr>\n",
       "    <tr>\n",
       "      <th>4</th>\n",
       "      <td>7</td>\n",
       "      <td>PDQ-7</td>\n",
       "      <td>MULTIPOLYGON (((-73.6724 45.5325, -73.6715 45....</td>\n",
       "    </tr>\n",
       "  </tbody>\n",
       "</table>\n",
       "</div>"
      ],
      "text/plain": [
       "   precinct_number precinct_name  \\\n",
       "0                1         PDQ-1   \n",
       "1                3         PDQ-3   \n",
       "2                4         PDQ-4   \n",
       "3                5         PDQ-5   \n",
       "4                7         PDQ-7   \n",
       "\n",
       "                                   precinct_location  \n",
       "0  MULTIPOLYGON (((-73.8405 45.4569, -73.8422 45....  \n",
       "1  MULTIPOLYGON (((-73.9397 45.4701, -73.9398 45....  \n",
       "2  MULTIPOLYGON (((-73.8159 45.5026, -73.8158 45....  \n",
       "3  MULTIPOLYGON (((-73.7228 45.432, -73.7227 45.4...  \n",
       "4  MULTIPOLYGON (((-73.6724 45.5325, -73.6715 45....  "
      ]
     },
     "execution_count": 85,
     "metadata": {},
     "output_type": "execute_result"
    }
   ],
   "source": [
    "gdf.head()"
   ]
  },
  {
   "cell_type": "code",
   "execution_count": 33,
   "metadata": {},
   "outputs": [
    {
     "data": {
      "text/plain": [
       "<Axes: >"
      ]
     },
     "execution_count": 33,
     "metadata": {},
     "output_type": "execute_result"
    },
    {
     "data": {
      "image/png": "[encoded data removed]",
      "text/plain": [
       "<Figure size 640x480 with 1 Axes>"
      ]
     },
     "metadata": {},
     "output_type": "display_data"
    }
   ],
   "source": [
    "gdf.plot()"
   ]
  },
  {
   "cell_type": "code",
   "execution_count": null,
   "metadata": {},
   "outputs": [],
   "source": []
  }
 ],
 "metadata": {
  "kernelspec": {
   "display_name": "base",
   "language": "python",
   "name": "python3"
  },
  "language_info": {
   "codemirror_mode": {
    "name": "ipython",
    "version": 3
   },
   "file_extension": ".py",
   "mimetype": "text/x-python",
   "name": "python",
   "nbconvert_exporter": "python",
   "pygments_lexer": "ipython3",
   "version": "3.11.0"
  }
 },
 "nbformat": 4,
 "nbformat_minor": 2
}
